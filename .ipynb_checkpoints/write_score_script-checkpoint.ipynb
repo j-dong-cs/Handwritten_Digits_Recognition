{
 "cells": [
  {
   "cell_type": "markdown",
   "metadata": {},
   "source": [
    "## Create score.py script: running script for model web service"
   ]
  },
  {
   "cell_type": "code",
   "execution_count": 1,
   "metadata": {},
   "outputs": [
    {
     "name": "stdout",
     "output_type": "stream",
     "text": [
      "Overwriting score.py\n"
     ]
    }
   ],
   "source": [
    "%%writefile score.py\n",
    "from azureml.core.model import Model\n",
    "import json\n",
    "import io\n",
    "import numpy as np\n",
    "import pandas as pd\n",
    "import cv2 as cv\n",
    "import keras\n",
    "import onnxruntime\n",
    "import base64\n",
    "\n",
    "def init():\n",
    "    global model_path, session, input_name, output_name\n",
    "    model_path = Model.get_model_path(model_name=\"onnxmodelimage\")\n",
    "    session = onnxruntime.InferenceSession(model_path)\n",
    "    input_name = session.get_inputs()[0].name\n",
    "    output_name = session.get_outputs()[0].name\n",
    "\n",
    "# This method preprocess input image: image -> grayscale -> blur -> threshold -> edges -> dilate \n",
    "# in order to make it ready to be passed to model for prediction\n",
    "def preprocess(image):\n",
    "    global thresh, contours\n",
    "    # resize original image to be fixed size 640 x 480\n",
    "    image = cv.resize(image, (640, 480))\n",
    "    # convert image to gray scale of pixel value from 0 to 255\n",
    "    gray = cv.cvtColor(image, cv.COLOR_RGB2GRAY)\n",
    "    # apply gaussian blur to filter image\n",
    "    blur = cv.GaussianBlur(gray,(5,5),0)\n",
    "    # apply threshold on blurred image to amplify digits\n",
    "    ret,thresh = cv.threshold(blur, 120, 200, cv.THRESH_BINARY_INV)    \n",
    "    # find digits edges using Canny Edge Detection\n",
    "    edges = cv.Canny(thresh, 120, 200)\n",
    "    # apply dilation on detected edges\n",
    "    kernel = np.ones((4,4),np.uint8)\n",
    "    dilate = cv.dilate(edges, kernel)\n",
    "    \n",
    "    # find contours and get the external one\n",
    "    im2, contours, hierarchy = cv.findContours(dilate, cv.RETR_TREE, cv.CHAIN_APPROX_SIMPLE)\n",
    "\n",
    "# This method find the bounding box for each digit in the image based on contours\n",
    "def findBoundingBoxes():\n",
    "    rect = []\n",
    "    # with each contour, draw boundingRect in blue\n",
    "    for c in contours:\n",
    "        # get the bounding rect\n",
    "        x, y, w, h = cv.boundingRect(c)\n",
    "        rect.append([x, y, w, h])\n",
    "    return rect\n",
    "\n",
    "# This method merge bounding boxes for same digit\n",
    "# and sort each box by x-axis value\n",
    "def mergeBoundingBoxes(rect):\n",
    "    rect = np.array(rect)\n",
    "    for i in range(len(rect)):\n",
    "        j = i + 1\n",
    "        while j < len(rect):\n",
    "            # check if rect[j] is within rect[i]\n",
    "            xBound = rect[j][0] > rect[i][0] and rect[j][0]+rect[j][2] < rect[i][0]+rect[i][2]\n",
    "            yBound = rect[j][1] > rect[i][1] and rect[j][1]+rect[j][3] < rect[i][1]+rect[i][3]\n",
    "            if (xBound and yBound) == True:\n",
    "                rect = np.delete(rect, j, 0)\n",
    "                j = i + 1\n",
    "            else:\n",
    "                j = j + 1\n",
    "    # sort bounding boxes on x-axis value\n",
    "    groupedRect = rect[rect[:,0].argsort()].tolist()\n",
    "    return groupedRect\n",
    "\n",
    "# This method iterate thorugh bounding boxes and extract for ROI\n",
    "def extractROI(rect):\n",
    "    digits = []\n",
    "    original = thresh.copy()\n",
    "    image_number = 0\n",
    "    for pts in rect:\n",
    "        # add border to each digit\n",
    "        ROI = original[pts[1]-20:pts[1]+pts[3]+20, pts[0]-20:pts[0]+pts[2]+20]\n",
    "        digits.append(ROI)\n",
    "        # cv.imwrite(\"ROI_{}.png\".format(image_number), ROI)\n",
    "        image_number += 1\n",
    "    return digits\n",
    "\n",
    "# This method resize each digit image to be 28 x 28 and normalize its values to be between 0 to 1\n",
    "def resizeAndNormalize(digits):\n",
    "    input_data = []\n",
    "    for digit in digits:\n",
    "        digit = cv.resize(digit, (28,28))\n",
    "        digit = np.divide(digit, 255)\n",
    "        input_data.append(digit)\n",
    "    return input_data\n",
    "        \n",
    "# note you can pass in multiple rows for scoring\n",
    "def run(raw_data):\n",
    "    img_cols = 28\n",
    "    img_rows = 28\n",
    "    try:\n",
    "        #with open(raw_data) as json_file:\n",
    "        #    data = json.load(json_file)\n",
    "        \n",
    "        # convert JSON format img str to bytes and decode back to img file\n",
    "        json_to_bytes = json.loads(raw_data).encode('utf-8')\n",
    "        decoded_img = base64.decodebytes(json_to_bytes)\n",
    "        image = cv.imdecode(np.asarray(bytearray(decoded_img), dtype=\"uint8\"), cv.IMREAD_COLOR)  \n",
    "        \n",
    "        #image_name = 'imgToPred.jpg'\n",
    "        #with open(image_name, 'wb') as image_result:\n",
    "        #    image_result.write(decoded_img)        \n",
    "        #image_path = os.path.join(os.getcwd(), image_name)\n",
    "        \n",
    "        preprocess(image)\n",
    "        rect = findBoundingBoxes()\n",
    "        groupedRect = mergeBoundingBoxes(rect)\n",
    "        digits = extractROI(groupedRect)\n",
    "        input_data = resizeAndNormalize(digits)\n",
    "        \n",
    "        input_data = np.array(input_data).astype('float32')\n",
    "        input_data = input_data.reshape(input_data.shape[0], img_rows, img_cols, 1)\n",
    "        r = session.run([output_name], {input_name: input_data})\n",
    "        for row in r: # select the indix with the maximum probability\n",
    "            result = pd.Series(np.array(row).argmax(axis=1), name=\"Label\")\n",
    "        output = io.StringIO()\n",
    "        json.dump(result.tolist(), output)\n",
    "        return output.getvalue()\n",
    "    except Exception as e:\n",
    "        error = str(e)\n",
    "        return error"
   ]
  },
  {
   "cell_type": "markdown",
   "metadata": {},
   "source": [
    "## Create .yml containing all dependencies"
   ]
  },
  {
   "cell_type": "code",
   "execution_count": 2,
   "metadata": {},
   "outputs": [
    {
     "name": "stdout",
     "output_type": "stream",
     "text": [
      "Done\n"
     ]
    }
   ],
   "source": [
    "from azureml.core.conda_dependencies import CondaDependencies \n",
    "\n",
    "# Create the environment\n",
    "myenv = CondaDependencies.create(pip_packages=['onnxruntime','azureml-core','keras',\"azureml-defaults\"],\n",
    "                                 conda_packages=['python=3.6.9','tensorflow=2.0.0','pandas=0.23.4','numpy=1.16.2','mesa-libgl-cos6-x86_64','opencv=3.4.2'])\n",
    "\n",
    "with open(\"myenv.yml\",\"w\") as f:\n",
    "    f.write(myenv.serialize_to_string())\n",
    "\n",
    "print('Done')"
   ]
  },
  {
   "cell_type": "code",
   "execution_count": 3,
   "metadata": {},
   "outputs": [],
   "source": [
    "from azureml.core.model import InferenceConfig\n",
    "\n",
    "inference_config = InferenceConfig(runtime= \"python\", \n",
    "                                   entry_script=\"score.py\",\n",
    "                                   conda_file=\"myenv.yml\")"
   ]
  },
  {
   "cell_type": "code",
   "execution_count": 4,
   "metadata": {},
   "outputs": [
    {
     "name": "stdout",
     "output_type": "stream",
     "text": [
      "digits_recognition\tcentralus\tmachinelearning\n"
     ]
    }
   ],
   "source": [
    "from azureml.core import Workspace\n",
    "# load workspace configuration from the config.json file in the config folder.\n",
    "ws = Workspace.from_config(path='jingjing.dong.mil/config/config.json')\n",
    "print(ws.name, ws.location, ws.resource_group, sep='\\t')\n",
    "compute_target = ws.compute_targets['cpucluster']"
   ]
  },
  {
   "cell_type": "code",
   "execution_count": 5,
   "metadata": {},
   "outputs": [],
   "source": [
    "from azureml.core.image import ContainerImage\n",
    "\n",
    "image_config = ContainerImage.image_configuration(execution_script=\"score.py\",\n",
    "                                                  runtime = \"python\",\n",
    "                                                  conda_file = \"myenv.yml\",\n",
    "                                                  description = \"digits_image\")"
   ]
  },
  {
   "cell_type": "markdown",
   "metadata": {},
   "source": [
    "## Create a Azure Container Image"
   ]
  },
  {
   "cell_type": "code",
   "execution_count": 6,
   "metadata": {},
   "outputs": [
    {
     "name": "stdout",
     "output_type": "stream",
     "text": [
      "Registering model onnxmodelimage\n"
     ]
    }
   ],
   "source": [
    "from azureml.core.model import Model\n",
    "\n",
    "model = Model.register(model_path = \"keras_mnist.onnx\",\n",
    "                       model_name = \"onnxmodelimage\",\n",
    "                       tags = {'area': \"digits_recognition\", 'type': \"CNN\"},\n",
    "                       description = \"Convolutional Neural Network model to recognize digits from ONNX\",\n",
    "                       workspace=ws)"
   ]
  },
  {
   "cell_type": "code",
   "execution_count": 7,
   "metadata": {},
   "outputs": [
    {
     "data": {
      "text/plain": [
       "[Model(workspace=Workspace.create(name='digits_recognition', subscription_id='de98789c-7b3d-4142-8cc3-88bf848066bb', resource_group='machinelearning'), name=onnxmodelimage, id=onnxmodelimage:18, version=18, tags={'area': 'digits_recognition', 'type': 'CNN'}, properties={})]"
      ]
     },
     "execution_count": 7,
     "metadata": {},
     "output_type": "execute_result"
    }
   ],
   "source": [
    "Model.list(workspace=ws, tags=['area'])"
   ]
  },
  {
   "cell_type": "code",
   "execution_count": 8,
   "metadata": {},
   "outputs": [
    {
     "name": "stdout",
     "output_type": "stream",
     "text": [
      "Creating image\n",
      "Running....................................................................................................\n",
      "Succeeded\n",
      "Image creation operation finished for image onnxmodelimage:21, operation \"Succeeded\"\n"
     ]
    }
   ],
   "source": [
    "image = ContainerImage.create(name = \"onnxmodelimage\",\n",
    "                              models = [model],\n",
    "                              image_config = image_config,\n",
    "                              workspace = ws)\n",
    "image.wait_for_creation(show_output = True)"
   ]
  },
  {
   "cell_type": "markdown",
   "metadata": {},
   "source": [
    "## Deploy the image as a web service on Azure Containter Instance"
   ]
  },
  {
   "cell_type": "code",
   "execution_count": 9,
   "metadata": {},
   "outputs": [
    {
     "name": "stdout",
     "output_type": "stream",
     "text": [
      "Running..........................................\n",
      "Failed\n"
     ]
    },
    {
     "name": "stderr",
     "output_type": "stream",
     "text": [
      "ERROR - Service deployment polling reached non-successful terminal state, current service state: Unhealthy\n",
      "More information can be found using '.get_logs()'\n",
      "Error:\n",
      "{\n",
      "  \"code\": \"AciDeploymentFailed\",\n",
      "  \"message\": \"Aci Deployment failed with exception: Your container application crashed. This may be caused by errors in your scoring file's init() function.\\nPlease check the logs for your container instance: handwritten-digits-recog. From the AML SDK, you can run print(service.get_logs()) if you have service object to fetch the logs. \\nYou can also try to run image digitsrecogna3ff5586.azurecr.io/onnxmodelimage@sha256:16014a4c9b7b37103b10e621d0a043ddbc0ac41356d9785a985d383d610879e6 locally. Please refer to http://aka.ms/debugimage#service-launch-fails for more information.\",\n",
      "  \"details\": [\n",
      "    {\n",
      "      \"code\": \"CrashLoopBackOff\",\n",
      "      \"message\": \"Your container application crashed. This may be caused by errors in your scoring file's init() function.\\nPlease check the logs for your container instance: handwritten-digits-recog. From the AML SDK, you can run print(service.get_logs()) if you have service object to fetch the logs. \\nYou can also try to run image digitsrecogna3ff5586.azurecr.io/onnxmodelimage@sha256:16014a4c9b7b37103b10e621d0a043ddbc0ac41356d9785a985d383d610879e6 locally. Please refer to http://aka.ms/debugimage#service-launch-fails for more information.\"\n",
      "    }\n",
      "  ]\n",
      "}\n",
      "\n",
      "ERROR - Service deployment polling reached non-successful terminal state, current service state: Unhealthy\n",
      "More information can be found using '.get_logs()'\n",
      "Error:\n",
      "{\n",
      "  \"code\": \"AciDeploymentFailed\",\n",
      "  \"message\": \"Aci Deployment failed with exception: Your container application crashed. This may be caused by errors in your scoring file's init() function.\\nPlease check the logs for your container instance: handwritten-digits-recog. From the AML SDK, you can run print(service.get_logs()) if you have service object to fetch the logs. \\nYou can also try to run image digitsrecogna3ff5586.azurecr.io/onnxmodelimage@sha256:16014a4c9b7b37103b10e621d0a043ddbc0ac41356d9785a985d383d610879e6 locally. Please refer to http://aka.ms/debugimage#service-launch-fails for more information.\",\n",
      "  \"details\": [\n",
      "    {\n",
      "      \"code\": \"CrashLoopBackOff\",\n",
      "      \"message\": \"Your container application crashed. This may be caused by errors in your scoring file's init() function.\\nPlease check the logs for your container instance: handwritten-digits-recog. From the AML SDK, you can run print(service.get_logs()) if you have service object to fetch the logs. \\nYou can also try to run image digitsrecogna3ff5586.azurecr.io/onnxmodelimage@sha256:16014a4c9b7b37103b10e621d0a043ddbc0ac41356d9785a985d383d610879e6 locally. Please refer to http://aka.ms/debugimage#service-launch-fails for more information.\"\n",
      "    }\n",
      "  ]\n",
      "}\n",
      "\n"
     ]
    },
    {
     "ename": "WebserviceException",
     "evalue": "WebserviceException:\n\tMessage: Service deployment polling reached non-successful terminal state, current service state: Unhealthy\nMore information can be found using '.get_logs()'\nError:\n{\n  \"code\": \"AciDeploymentFailed\",\n  \"message\": \"Aci Deployment failed with exception: Your container application crashed. This may be caused by errors in your scoring file's init() function.\\nPlease check the logs for your container instance: handwritten-digits-recog. From the AML SDK, you can run print(service.get_logs()) if you have service object to fetch the logs. \\nYou can also try to run image digitsrecogna3ff5586.azurecr.io/onnxmodelimage@sha256:16014a4c9b7b37103b10e621d0a043ddbc0ac41356d9785a985d383d610879e6 locally. Please refer to http://aka.ms/debugimage#service-launch-fails for more information.\",\n  \"details\": [\n    {\n      \"code\": \"CrashLoopBackOff\",\n      \"message\": \"Your container application crashed. This may be caused by errors in your scoring file's init() function.\\nPlease check the logs for your container instance: handwritten-digits-recog. From the AML SDK, you can run print(service.get_logs()) if you have service object to fetch the logs. \\nYou can also try to run image digitsrecogna3ff5586.azurecr.io/onnxmodelimage@sha256:16014a4c9b7b37103b10e621d0a043ddbc0ac41356d9785a985d383d610879e6 locally. Please refer to http://aka.ms/debugimage#service-launch-fails for more information.\"\n    }\n  ]\n}\n\tInnerException None\n\tErrorResponse \n{\n    \"error\": {\n        \"message\": \"Service deployment polling reached non-successful terminal state, current service state: Unhealthy\\nMore information can be found using '.get_logs()'\\nError:\\n{\\n  \\\"code\\\": \\\"AciDeploymentFailed\\\",\\n  \\\"message\\\": \\\"Aci Deployment failed with exception: Your container application crashed. This may be caused by errors in your scoring file's init() function.\\\\nPlease check the logs for your container instance: handwritten-digits-recog. From the AML SDK, you can run print(service.get_logs()) if you have service object to fetch the logs. \\\\nYou can also try to run image digitsrecogna3ff5586.azurecr.io/onnxmodelimage@sha256:16014a4c9b7b37103b10e621d0a043ddbc0ac41356d9785a985d383d610879e6 locally. Please refer to http://aka.ms/debugimage#service-launch-fails for more information.\\\",\\n  \\\"details\\\": [\\n    {\\n      \\\"code\\\": \\\"CrashLoopBackOff\\\",\\n      \\\"message\\\": \\\"Your container application crashed. This may be caused by errors in your scoring file's init() function.\\\\nPlease check the logs for your container instance: handwritten-digits-recog. From the AML SDK, you can run print(service.get_logs()) if you have service object to fetch the logs. \\\\nYou can also try to run image digitsrecogna3ff5586.azurecr.io/onnxmodelimage@sha256:16014a4c9b7b37103b10e621d0a043ddbc0ac41356d9785a985d383d610879e6 locally. Please refer to http://aka.ms/debugimage#service-launch-fails for more information.\\\"\\n    }\\n  ]\\n}\"\n    }\n}",
     "output_type": "error",
     "traceback": [
      "\u001b[0;31m---------------------------------------------------------------------------\u001b[0m",
      "\u001b[0;31mWebserviceException\u001b[0m                       Traceback (most recent call last)",
      "\u001b[0;32m/anaconda/envs/azureml_py36/lib/python3.6/site-packages/azureml/core/webservice/webservice.py\u001b[0m in \u001b[0;36mwait_for_deployment\u001b[0;34m(self, show_output)\u001b[0m\n\u001b[1;32m    626\u001b[0m                                           \u001b[0;34m'Error:\\n'\u001b[0m\u001b[0;34m\u001b[0m\u001b[0;34m\u001b[0m\u001b[0m\n\u001b[0;32m--> 627\u001b[0;31m                                           '{}'.format(self.state, logs_response, error_response), logger=module_logger)\n\u001b[0m\u001b[1;32m    628\u001b[0m             print('{} service creation operation finished, operation \"{}\"'.format(self._webservice_type,\n",
      "\u001b[0;31mWebserviceException\u001b[0m: WebserviceException:\n\tMessage: Service deployment polling reached non-successful terminal state, current service state: Unhealthy\nMore information can be found using '.get_logs()'\nError:\n{\n  \"code\": \"AciDeploymentFailed\",\n  \"message\": \"Aci Deployment failed with exception: Your container application crashed. This may be caused by errors in your scoring file's init() function.\\nPlease check the logs for your container instance: handwritten-digits-recog. From the AML SDK, you can run print(service.get_logs()) if you have service object to fetch the logs. \\nYou can also try to run image digitsrecogna3ff5586.azurecr.io/onnxmodelimage@sha256:16014a4c9b7b37103b10e621d0a043ddbc0ac41356d9785a985d383d610879e6 locally. Please refer to http://aka.ms/debugimage#service-launch-fails for more information.\",\n  \"details\": [\n    {\n      \"code\": \"CrashLoopBackOff\",\n      \"message\": \"Your container application crashed. This may be caused by errors in your scoring file's init() function.\\nPlease check the logs for your container instance: handwritten-digits-recog. From the AML SDK, you can run print(service.get_logs()) if you have service object to fetch the logs. \\nYou can also try to run image digitsrecogna3ff5586.azurecr.io/onnxmodelimage@sha256:16014a4c9b7b37103b10e621d0a043ddbc0ac41356d9785a985d383d610879e6 locally. Please refer to http://aka.ms/debugimage#service-launch-fails for more information.\"\n    }\n  ]\n}\n\tInnerException None\n\tErrorResponse \n{\n    \"error\": {\n        \"message\": \"Service deployment polling reached non-successful terminal state, current service state: Unhealthy\\nMore information can be found using '.get_logs()'\\nError:\\n{\\n  \\\"code\\\": \\\"AciDeploymentFailed\\\",\\n  \\\"message\\\": \\\"Aci Deployment failed with exception: Your container application crashed. This may be caused by errors in your scoring file's init() function.\\\\nPlease check the logs for your container instance: handwritten-digits-recog. From the AML SDK, you can run print(service.get_logs()) if you have service object to fetch the logs. \\\\nYou can also try to run image digitsrecogna3ff5586.azurecr.io/onnxmodelimage@sha256:16014a4c9b7b37103b10e621d0a043ddbc0ac41356d9785a985d383d610879e6 locally. Please refer to http://aka.ms/debugimage#service-launch-fails for more information.\\\",\\n  \\\"details\\\": [\\n    {\\n      \\\"code\\\": \\\"CrashLoopBackOff\\\",\\n      \\\"message\\\": \\\"Your container application crashed. This may be caused by errors in your scoring file's init() function.\\\\nPlease check the logs for your container instance: handwritten-digits-recog. From the AML SDK, you can run print(service.get_logs()) if you have service object to fetch the logs. \\\\nYou can also try to run image digitsrecogna3ff5586.azurecr.io/onnxmodelimage@sha256:16014a4c9b7b37103b10e621d0a043ddbc0ac41356d9785a985d383d610879e6 locally. Please refer to http://aka.ms/debugimage#service-launch-fails for more information.\\\"\\n    }\\n  ]\\n}\"\n    }\n}",
      "\nDuring handling of the above exception, another exception occurred:\n",
      "\u001b[0;31mWebserviceException\u001b[0m                       Traceback (most recent call last)",
      "\u001b[0;32m<ipython-input-9-46712a344c1d>\u001b[0m in \u001b[0;36m<module>\u001b[0;34m\u001b[0m\n\u001b[1;32m      9\u001b[0m                                        \u001b[0mname\u001b[0m \u001b[0;34m=\u001b[0m \u001b[0mservice_name\u001b[0m\u001b[0;34m,\u001b[0m\u001b[0;34m\u001b[0m\u001b[0;34m\u001b[0m\u001b[0m\n\u001b[1;32m     10\u001b[0m                                        workspace = ws)\n\u001b[0;32m---> 11\u001b[0;31m \u001b[0mservice\u001b[0m\u001b[0;34m.\u001b[0m\u001b[0mwait_for_deployment\u001b[0m\u001b[0;34m(\u001b[0m\u001b[0mshow_output\u001b[0m \u001b[0;34m=\u001b[0m \u001b[0;32mTrue\u001b[0m\u001b[0;34m)\u001b[0m\u001b[0;34m\u001b[0m\u001b[0;34m\u001b[0m\u001b[0m\n\u001b[0m\u001b[1;32m     12\u001b[0m \u001b[0mprint\u001b[0m\u001b[0;34m(\u001b[0m\u001b[0mservice\u001b[0m\u001b[0;34m.\u001b[0m\u001b[0mstate\u001b[0m\u001b[0;34m)\u001b[0m\u001b[0;34m\u001b[0m\u001b[0;34m\u001b[0m\u001b[0m\n",
      "\u001b[0;32m/anaconda/envs/azureml_py36/lib/python3.6/site-packages/azureml/core/webservice/webservice.py\u001b[0m in \u001b[0;36mwait_for_deployment\u001b[0;34m(self, show_output)\u001b[0m\n\u001b[1;32m    634\u001b[0m                                           'Current state is {}'.format(self.state), logger=module_logger)\n\u001b[1;32m    635\u001b[0m             \u001b[0;32melse\u001b[0m\u001b[0;34m:\u001b[0m\u001b[0;34m\u001b[0m\u001b[0;34m\u001b[0m\u001b[0m\n\u001b[0;32m--> 636\u001b[0;31m                 \u001b[0;32mraise\u001b[0m \u001b[0mWebserviceException\u001b[0m\u001b[0;34m(\u001b[0m\u001b[0me\u001b[0m\u001b[0;34m.\u001b[0m\u001b[0mmessage\u001b[0m\u001b[0;34m,\u001b[0m \u001b[0mlogger\u001b[0m\u001b[0;34m=\u001b[0m\u001b[0mmodule_logger\u001b[0m\u001b[0;34m)\u001b[0m\u001b[0;34m\u001b[0m\u001b[0;34m\u001b[0m\u001b[0m\n\u001b[0m\u001b[1;32m    637\u001b[0m \u001b[0;34m\u001b[0m\u001b[0m\n\u001b[1;32m    638\u001b[0m     \u001b[0;32mdef\u001b[0m \u001b[0m_wait_for_operation_to_complete\u001b[0m\u001b[0;34m(\u001b[0m\u001b[0mself\u001b[0m\u001b[0;34m,\u001b[0m \u001b[0mshow_output\u001b[0m\u001b[0;34m)\u001b[0m\u001b[0;34m:\u001b[0m\u001b[0;34m\u001b[0m\u001b[0;34m\u001b[0m\u001b[0m\n",
      "\u001b[0;31mWebserviceException\u001b[0m: WebserviceException:\n\tMessage: Service deployment polling reached non-successful terminal state, current service state: Unhealthy\nMore information can be found using '.get_logs()'\nError:\n{\n  \"code\": \"AciDeploymentFailed\",\n  \"message\": \"Aci Deployment failed with exception: Your container application crashed. This may be caused by errors in your scoring file's init() function.\\nPlease check the logs for your container instance: handwritten-digits-recog. From the AML SDK, you can run print(service.get_logs()) if you have service object to fetch the logs. \\nYou can also try to run image digitsrecogna3ff5586.azurecr.io/onnxmodelimage@sha256:16014a4c9b7b37103b10e621d0a043ddbc0ac41356d9785a985d383d610879e6 locally. Please refer to http://aka.ms/debugimage#service-launch-fails for more information.\",\n  \"details\": [\n    {\n      \"code\": \"CrashLoopBackOff\",\n      \"message\": \"Your container application crashed. This may be caused by errors in your scoring file's init() function.\\nPlease check the logs for your container instance: handwritten-digits-recog. From the AML SDK, you can run print(service.get_logs()) if you have service object to fetch the logs. \\nYou can also try to run image digitsrecogna3ff5586.azurecr.io/onnxmodelimage@sha256:16014a4c9b7b37103b10e621d0a043ddbc0ac41356d9785a985d383d610879e6 locally. Please refer to http://aka.ms/debugimage#service-launch-fails for more information.\"\n    }\n  ]\n}\n\tInnerException None\n\tErrorResponse \n{\n    \"error\": {\n        \"message\": \"Service deployment polling reached non-successful terminal state, current service state: Unhealthy\\nMore information can be found using '.get_logs()'\\nError:\\n{\\n  \\\"code\\\": \\\"AciDeploymentFailed\\\",\\n  \\\"message\\\": \\\"Aci Deployment failed with exception: Your container application crashed. This may be caused by errors in your scoring file's init() function.\\\\nPlease check the logs for your container instance: handwritten-digits-recog. From the AML SDK, you can run print(service.get_logs()) if you have service object to fetch the logs. \\\\nYou can also try to run image digitsrecogna3ff5586.azurecr.io/onnxmodelimage@sha256:16014a4c9b7b37103b10e621d0a043ddbc0ac41356d9785a985d383d610879e6 locally. Please refer to http://aka.ms/debugimage#service-launch-fails for more information.\\\",\\n  \\\"details\\\": [\\n    {\\n      \\\"code\\\": \\\"CrashLoopBackOff\\\",\\n      \\\"message\\\": \\\"Your container application crashed. This may be caused by errors in your scoring file's init() function.\\\\nPlease check the logs for your container instance: handwritten-digits-recog. From the AML SDK, you can run print(service.get_logs()) if you have service object to fetch the logs. \\\\nYou can also try to run image digitsrecogna3ff5586.azurecr.io/onnxmodelimage@sha256:16014a4c9b7b37103b10e621d0a043ddbc0ac41356d9785a985d383d610879e6 locally. Please refer to http://aka.ms/debugimage#service-launch-fails for more information.\\\"\\n    }\\n  ]\\n}\"\n    }\n}"
     ]
    }
   ],
   "source": [
    "from azureml.core.webservice import AciWebservice, Webservice\n",
    "\n",
    "aciconfig = AciWebservice.deploy_configuration(cpu_cores = 1, \n",
    "                                               memory_gb = 1, \n",
    "                                               description = 'ONNX for mnist model with preprocess') \n",
    "service_name = 'handwritten-digits-recog'\n",
    "service = Webservice.deploy_from_image(deployment_config = aciconfig, \n",
    "                                       image = image,\n",
    "                                       name = service_name,\n",
    "                                       workspace = ws)\n",
    "service.wait_for_deployment(show_output = True)\n",
    "print(service.state)"
   ]
  },
  {
   "cell_type": "code",
   "execution_count": 10,
   "metadata": {},
   "outputs": [
    {
     "data": {
      "text/plain": [
       "'2019-12-03T04:25:05,220936918+00:00 - rsyslog/run \\n2019-12-03T04:25:05,222154159+00:00 - gunicorn/run \\n2019-12-03T04:25:05,234400067+00:00 - nginx/run \\n2019-12-03T04:25:05,238672810+00:00 - iot-server/run \\nEdgeHubConnectionString and IOTEDGE_IOTHUBHOSTNAME are not set. Exiting...\\n2019-12-03T04:25:05,685328021+00:00 - iot-server/finish 1 0\\n2019-12-03T04:25:05,752244755+00:00 - Exit code 1 is normal. Not restarting iot-server.\\nStarting gunicorn 19.9.0\\nListening at: http://127.0.0.1:31311 (11)\\nUsing worker: sync\\nworker timeout is set to 300\\nBooting worker with pid: 43\\nException in worker process\\nTraceback (most recent call last):\\n  File \"/opt/miniconda/lib/python3.6/site-packages/gunicorn/arbiter.py\", line 583, in spawn_worker\\n    worker.init_process()\\n  File \"/opt/miniconda/lib/python3.6/site-packages/gunicorn/workers/base.py\", line 129, in init_process\\n    self.load_wsgi()\\n  File \"/opt/miniconda/lib/python3.6/site-packages/gunicorn/workers/base.py\", line 138, in load_wsgi\\n    self.wsgi = self.app.wsgi()\\n  File \"/opt/miniconda/lib/python3.6/site-packages/gunicorn/app/base.py\", line 67, in wsgi\\n    self.callable = self.load()\\n  File \"/opt/miniconda/lib/python3.6/site-packages/gunicorn/app/wsgiapp.py\", line 52, in load\\n    return self.load_wsgiapp()\\n  File \"/opt/miniconda/lib/python3.6/site-packages/gunicorn/app/wsgiapp.py\", line 41, in load_wsgiapp\\n    return util.import_app(self.app_uri)\\n  File \"/opt/miniconda/lib/python3.6/site-packages/gunicorn/util.py\", line 350, in import_app\\n    __import__(module)\\n  File \"/var/azureml-server/wsgi.py\", line 1, in <module>\\n    import create_app\\n  File \"/var/azureml-server/create_app.py\", line 3, in <module>\\n    from app import main\\n  File \"/var/azureml-server/app.py\", line 32, in <module>\\n    import main as user_main\\n  File \"/var/azureml-app/main.py\", line 19, in <module>\\n    driver_module_spec.loader.exec_module(driver_module)\\n  File \"/var/azureml-app/score.py\", line 6, in <module>\\n    import cv2 as cv\\nImportError: libGL.so.1: cannot open shared object file: No such file or directory\\nWorker exiting (pid: 43)\\nShutting down: Master\\nReason: Worker failed to boot.\\n2019-12-03T04:25:10,270739360+00:00 - gunicorn/finish 3 0\\n2019-12-03T04:25:10,272043403+00:00 - Exit code 3 is not normal. Killing image.\\n'"
      ]
     },
     "execution_count": 10,
     "metadata": {},
     "output_type": "execute_result"
    }
   ],
   "source": [
    "service.get_logs()"
   ]
  },
  {
   "cell_type": "markdown",
   "metadata": {},
   "source": [
    "## Test Web Service"
   ]
  },
  {
   "cell_type": "code",
   "execution_count": 30,
   "metadata": {},
   "outputs": [],
   "source": [
    "import json\n",
    "import base64\n",
    "\n",
    "image_path = os.path.join(os.getcwd(), 'test_images/test1.jpg')\n",
    "with open(image_path, 'rb') as file:\n",
    "    img = file.read()\n",
    "image_64_encode = base64.encodebytes(img).decode('utf-8')\n",
    "bytes_to_json = json.dumps(image_64_encode)"
   ]
  },
  {
   "cell_type": "code",
   "execution_count": 150,
   "metadata": {},
   "outputs": [
    {
     "name": "stdout",
     "output_type": "stream",
     "text": [
      "too many values to unpack (expected 2)\n"
     ]
    }
   ],
   "source": [
    "import requests\n",
    "scoring_url = 'http://727dea6c-c058-480c-8d67-e36b7ee07c96.centralus.azurecontainer.io/score'\n",
    "headers = { 'Content-Type': 'application/json' }\n",
    "response = requests.post(scoring_url, bytes_to_json, headers=headers)\n",
    "print(json.loads(response.text))"
   ]
  },
  {
   "cell_type": "code",
   "execution_count": 152,
   "metadata": {},
   "outputs": [],
   "source": [
    "from azureml.core.model import Model\n",
    "import json\n",
    "import io\n",
    "import numpy as np\n",
    "import pandas as pd\n",
    "import cv2 as cv\n",
    "import keras\n",
    "import onnxruntime\n",
    "import base64\n",
    "\n",
    "def init():\n",
    "    global model_path, session, input_name, output_name\n",
    "    model_path = Model.get_model_path(model_name=\"onnxmodelimage\")\n",
    "    session = onnxruntime.InferenceSession(model_path)\n",
    "    input_name = session.get_inputs()[0].name\n",
    "    output_name = session.get_outputs()[0].name\n",
    "\n",
    "# This method preprocess input image: image -> grayscale -> blur -> threshold -> edges -> dilate \n",
    "# in order to make it ready to be passed to model for prediction\n",
    "def preprocess(image):\n",
    "    global thresh, contours\n",
    "    # resize original image to be fixed size 640 x 480\n",
    "    image = cv.resize(image, (640, 480))\n",
    "    # convert image to gray scale of pixel value from 0 to 255\n",
    "    gray = cv.cvtColor(image, cv.COLOR_RGB2GRAY)\n",
    "    # apply gaussian blur to filter image\n",
    "    blur = cv.GaussianBlur(gray,(5,5),0)\n",
    "    # apply threshold on blurred image to amplify digits\n",
    "    ret,thresh = cv.threshold(blur, 120, 200, cv.THRESH_BINARY_INV)    \n",
    "    # find digits edges using Canny Edge Detection\n",
    "    edges = cv.Canny(thresh, 120, 200)\n",
    "    # apply dilation on detected edges\n",
    "    kernel = np.ones((4,4),np.uint8)\n",
    "    dilate = cv.dilate(edges, kernel)\n",
    "    \n",
    "    # find contours and get the external one\n",
    "    contours = cv.findContours(dilate, cv.RETR_TREE, cv.CHAIN_APPROX_SIMPLE)\n",
    "\n",
    "# This method find the bounding box for each digit in the image based on contours\n",
    "def findBoundingBoxes():\n",
    "    global rect\n",
    "    rect = []\n",
    "    # with each contour, draw boundingRect in blue\n",
    "    for c in contours:\n",
    "        # get the bounding rect\n",
    "        x, y, w, h = cv.boundingRect(c)\n",
    "        rect.append([x, y, w, h])\n",
    "\n",
    "# This method merge bounding boxes for same digit\n",
    "# and sort each box by x-axis value\n",
    "def mergeBoundingBoxes():\n",
    "    rect = np.array(rect)\n",
    "    for i in range(len(rect)):\n",
    "        j = i + 1\n",
    "        while j < len(rect):\n",
    "            # check if rect[j] is within rect[i]\n",
    "            xBound = rect[j][0] > rect[i][0] and rect[j][0]+rect[j][2] < rect[i][0]+rect[i][2]\n",
    "            yBound = rect[j][1] > rect[i][1] and rect[j][1]+rect[j][3] < rect[i][1]+rect[i][3]\n",
    "            if (xBound and yBound) == True:\n",
    "                rect = np.delete(rect, j, 0)\n",
    "                j = i + 1\n",
    "            else:\n",
    "                j = j + 1\n",
    "    # sort bounding boxes on x-axis value\n",
    "    rect = rect[rect[:,0].argsort()].tolist()\n",
    "\n",
    "# This method iterate thorugh bounding boxes and extract for ROI\n",
    "def extractROI(rect):\n",
    "    global digits\n",
    "    digits = []\n",
    "    original = thresh.copy()\n",
    "    image_number = 0\n",
    "    for pts in rect:\n",
    "        # add border to each digit\n",
    "        ROI = original[pts[1]-20:pts[1]+pts[3]+20, pts[0]-20:pts[0]+pts[2]+20]\n",
    "        digits.append(ROI)\n",
    "        # cv.imwrite(\"ROI_{}.png\".format(image_number), ROI)\n",
    "        image_number += 1\n",
    "\n",
    "# This method resize each digit image to be 28 x 28 and normalize its values to be between 0 to 1\n",
    "def resizeAndNormalize(digits):\n",
    "    input_data = []\n",
    "    for digit in digits:\n",
    "        digit = cv.resize(digit, (28,28))\n",
    "        digit = np.divide(digit, 255)\n",
    "        input_data.append(digit)\n",
    "    return input_data\n",
    "        \n",
    "# note you can pass in multiple rows for scoring\n",
    "def run(raw_data):\n",
    "    img_cols = 28\n",
    "    img_rows = 28\n",
    "    try:\n",
    "        #with open(raw_data) as json_file:\n",
    "        #    data = json.load(json_file)\n",
    "        \n",
    "        # convert JSON format img str to bytes and decode back to img file\n",
    "        json_to_bytes = json.loads(raw_data).encode('utf-8')\n",
    "        decoded_img = base64.decodebytes(json_to_bytes)\n",
    "        image = cv.imdecode(np.asarray(bytearray(decoded_img), dtype=\"uint8\"), cv.IMREAD_COLOR)  \n",
    "        \n",
    "        #image_name = 'imgToPred.jpg'\n",
    "        #with open(image_name, 'wb') as image_result:\n",
    "        #    image_result.write(decoded_img)        \n",
    "        #image_path = os.path.join(os.getcwd(), image_name)\n",
    "        \n",
    "        preprocess(image)\n",
    "        rect = findBoundingBoxes()\n",
    "        groupedRect = mergeBoundingBoxes(rect)\n",
    "        digits = extractROI(groupedRect)\n",
    "        input_data = resizeAndNormalize(digits)\n",
    "        \n",
    "        input_data = np.array(input_data).astype('float32')\n",
    "        input_data = input_data.reshape(input_data.shape[0], img_rows, img_cols, 1)\n",
    "        r = session.run([output_name], {input_name: input_data})\n",
    "        for row in r: # select the indix with the maximum probability\n",
    "            result = pd.Series(np.array(row).argmax(axis=1), name=\"Label\")\n",
    "        output = io.StringIO()\n",
    "        json.dump(result.tolist(), output)\n",
    "        return output.getvalue()\n",
    "    except Exception as e:\n",
    "        error = str(e)\n",
    "        return error"
   ]
  },
  {
   "cell_type": "code",
   "execution_count": 153,
   "metadata": {},
   "outputs": [],
   "source": [
    "init()"
   ]
  },
  {
   "cell_type": "code",
   "execution_count": 154,
   "metadata": {},
   "outputs": [
    {
     "data": {
      "text/plain": [
       "'[0, 7, 1, 3, 8, 9]'"
      ]
     },
     "execution_count": 154,
     "metadata": {},
     "output_type": "execute_result"
    }
   ],
   "source": [
    "run(bytes_to_json)"
   ]
  },
  {
   "cell_type": "code",
   "execution_count": 158,
   "metadata": {},
   "outputs": [
    {
     "data": {
      "text/plain": [
       "'4.1.2'"
      ]
     },
     "execution_count": 158,
     "metadata": {},
     "output_type": "execute_result"
    }
   ],
   "source": [
    "import cv2\n",
    "cv2.__version__"
   ]
  },
  {
   "cell_type": "code",
   "execution_count": null,
   "metadata": {},
   "outputs": [],
   "source": []
  }
 ],
 "metadata": {
  "kernelspec": {
   "display_name": "Python 3.6 - AzureML",
   "language": "python",
   "name": "python3-azureml"
  },
  "language_info": {
   "codemirror_mode": {
    "name": "ipython",
    "version": 3
   },
   "file_extension": ".py",
   "mimetype": "text/x-python",
   "name": "python",
   "nbconvert_exporter": "python",
   "pygments_lexer": "ipython3",
   "version": "3.6.9"
  }
 },
 "nbformat": 4,
 "nbformat_minor": 2
}
